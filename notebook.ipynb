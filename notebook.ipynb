{
 "cells": [
  {
   "cell_type": "code",
   "execution_count": 1,
   "metadata": {},
   "outputs": [],
   "source": [
    "# Importar la librería openai para interactuar con la API de OpenAI\n",
    "import openai\n",
    "# Importar la función load_dotenv para cargar variables de entorno desde un archivo .env\n",
    "from dotenv import load_dotenv"
   ]
  },
  {
   "cell_type": "code",
   "execution_count": 2,
   "metadata": {},
   "outputs": [],
   "source": [
    "# Cargar las variables de entorno desde un archivo .env\n",
    "load_dotenv()\n",
    "\n",
    "# Inicializar el cliente de OpenAI\n",
    "client = openai.OpenAI()\n",
    "\n",
    "# Definir el modelo a utilizar\n",
    "model = \"gpt-3.5-turbo-16k\""
   ]
  },
  {
   "cell_type": "code",
   "execution_count": 3,
   "metadata": {},
   "outputs": [
    {
     "name": "stdout",
     "output_type": "stream",
     "text": [
      "asst_U73vgLTk8geae8A6W08AKWAN\n"
     ]
    }
   ],
   "source": [
    "# Crear un asistente virtual para el banco utilizando la API de OpenAI\n",
    "banking_assistant = client.beta.assistants.create(\n",
    "  name=\"Bank Bot\",\n",
    "  description=\"Eres el asistente virtual de atención al cliente de una institución bancaria líder. Tu función principal es proporcionar información precisa y asistencia a los clientes en temas relacionados con cuentas, préstamos, tarjetas y otros servicios financieros. Estás diseñado para ofrecer respuestas claras y útiles, facilitando una experiencia eficiente y amigable a los usuarios que buscan resolver consultas y realizar transacciones bancarias.\",\n",
    "  model=model\n",
    ")\n",
    "\n",
    "# Obtener el ID del asistente creado\n",
    "assistant_id = banking_assistant.id\n",
    "print(assistant_id)"
   ]
  }
 ],
 "metadata": {
  "kernelspec": {
   "display_name": "venv",
   "language": "python",
   "name": "python3"
  },
  "language_info": {
   "codemirror_mode": {
    "name": "ipython",
    "version": 3
   },
   "file_extension": ".py",
   "mimetype": "text/x-python",
   "name": "python",
   "nbconvert_exporter": "python",
   "pygments_lexer": "ipython3",
   "version": "3.10.11"
  }
 },
 "nbformat": 4,
 "nbformat_minor": 2
}
